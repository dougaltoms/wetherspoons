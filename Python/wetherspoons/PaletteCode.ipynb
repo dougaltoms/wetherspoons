{
 "cells": [
  {
   "cell_type": "code",
   "execution_count": 1,
   "metadata": {},
   "outputs": [],
   "source": [
    "from colour import Color\n",
    "from matplotlib.colors import LinearSegmentedColormap, to_hex\n",
    "import matplotlib as plt\n",
    "import seaborn"
   ]
  },
  {
   "cell_type": "code",
   "execution_count": 2,
   "metadata": {},
   "outputs": [],
   "source": [
    "WetherspoonsPalettes = {\n",
    "    \"BlueLagoon\" :[\"#164d83\",\"#2a81ca\",\"#3ca2e1\",\"#55cce3\",\"#80bcae\",\"#f2e554\"],\n",
    "    \"SexOnTheBeach\" : [\"#721613\",\"#e33530\",\"#fc6a03\",\"#f1803a\",\"#f5a941\",\"#fbd85e\"],\n",
    "    \"PurpleRain\" : [\"#2a0925\",\"#412a52\",\"#727aa0\",\"#b9c8d4\",\"#cacaca\",\"#a3b535\"],\n",
    "    \"PornstarMartini\" : [\"#face60\",\"#f2903d\",\"#d46b31\",\"#ece2d9\",\"#d0c65c\",\"#995176\"],\n",
    "    \"TuttiFrutti\" : [\"#1f4c1d\",\"#479624\",\"#7cc033\",\"#9ed23b\",\"#d7f578\",\"#fefaa9\"],\n",
    "    \"BubbleGin\" : [\"#b02f24\",\"#984c50\",\"#c2868f\",\"#ccaead\",\"#d5d0d4\",\"#f5eaf3\"]\n",
    "}"
   ]
  },
  {
   "cell_type": "code",
   "execution_count": 31,
   "metadata": {},
   "outputs": [
    {
     "data": {
      "text/plain": [
       "['#f2e554', '#80bcae', '#55cce3', '#3ca2e1', '#2a81ca', '#164d83']"
      ]
     },
     "execution_count": 31,
     "metadata": {},
     "output_type": "execute_result"
    }
   ],
   "source": [
    "palette = WetherspoonsPalettes['BlueLagoon']\n",
    "palette.reverse()\n",
    "palette"
   ]
  },
  {
   "cell_type": "code",
   "execution_count": 30,
   "metadata": {},
   "outputs": [
    {
     "name": "stdout",
     "output_type": "stream",
     "text": [
      "['#164d83', '#2a81ca', '#3ca2e1', '#55cce3', '#80bcae', '#f2e554']\n"
     ]
    }
   ],
   "source": [
    "palette.reverse()\n",
    "print(palette)"
   ]
  },
  {
   "cell_type": "code",
   "execution_count": 42,
   "metadata": {},
   "outputs": [],
   "source": [
    "def pitcher_of(palette, direction=(1,-1), type=(\"continuous\", \"discrete\")):\n",
    "\n",
    "    import matplotlib as plt\n",
    "    \n",
    "    # Get palette from from palette list\n",
    "\n",
    "    try:\n",
    "        palette_name = palette\n",
    "        palette = WetherspoonsPalettes[palette]\n",
    "        \n",
    "    except:\n",
    "        return print(f\"We're not currently serving the '{palette_name}' cocktail.\")\n",
    "\n",
    "    # Set direction\n",
    "\n",
    "    try:\n",
    "        if direction not in {1,-1}:\n",
    "            direction = 1\n",
    "\n",
    "        if type not in {\"continuous\",\"discrete\"}:\n",
    "            type = \"continuous\"\n",
    "\n",
    "    except Exception as e:\n",
    "        return print(\"You've had one too many silly goose: \",e)\n",
    "\n",
    "\n",
    "    try:\n",
    "        if direction==-1:\n",
    "            palette.reverse()\n",
    "    except Exception as e:\n",
    "        return print('Sorry for the error, pub closed: ',e)\n",
    "    \n",
    "\n",
    "    # Continuous cmaps\n",
    "\n",
    "    try:\n",
    "        if type == \"continuous\" and direction ==1:\n",
    "            cmap = plt.colors.LinearSegmentedColormap.from_list(palette_name, palette)\n",
    "\n",
    "        if type == \"continuous\" and direction ==-1:\n",
    "            #palette.reverse()\n",
    "            cmap = plt.colors.LinearSegmentedColormap.from_list(palette_name, palette)\n",
    "\n",
    "    except Exception as e:\n",
    "        return print('Sorry for the error, pub closed: ',e)\n",
    "\n",
    "    # Discrete cmaps\n",
    "\n",
    "    try:\n",
    "        if type == \"discrete\" and direction ==1:\n",
    "            cmap = plt.colors.ListedColormap(palette)\n",
    "\n",
    "        if type == \"discrete\" and direction ==-1:\n",
    "            #palette.reverse()\n",
    "            cmap = plt.colors.ListedColormap(palette)\n",
    "    except Exception as e:\n",
    "        return print(\"Sorry for the error, pub closed: \",e)\n",
    "\n",
    "    return cmap"
   ]
  },
  {
   "cell_type": "code",
   "execution_count": 46,
   "metadata": {},
   "outputs": [
    {
     "data": {
      "image/png": "[encoded data removed]",
      "text/html": [
       "<div style=\"vertical-align: middle;\"><strong>from_list</strong> </div><div class=\"cmap\"><img alt=\"from_list colormap\" title=\"from_list\" style=\"border: 1px solid #555;\" src=\"data:image/png;base64,iVBORw0KGgoAAAANSUhEUgAAAgAAAABACAYAAABsv8+/AAAAGHRFWHRUaXRsZQBmcm9tX2xpc3QgY29sb3JtYXBDL89FAAAAHnRFWHREZXNjcmlwdGlvbgBmcm9tX2xpc3QgY29sb3JtYXABtCnOAAAAMHRFWHRBdXRob3IATWF0cGxvdGxpYiB2My42LjEsIGh0dHBzOi8vbWF0cGxvdGxpYi5vcmdEI+MMAAAAMnRFWHRTb2Z0d2FyZQBNYXRwbG90bGliIHYzLjYuMSwgaHR0cHM6Ly9tYXRwbG90bGliLm9yZ2qFfCsAAAFTSURBVHic7daxDQFQAEVRRBhAIlGIWqUSc7GqWdQsgZ/8e84Er3q5y8d+917wdffTcfSE6Ryuz9ETpvPa30ZPmM76vB09YTqbiz/9hdXoAQDA/wkAAAgSAAAQJAAAIEgAAECQAACAIAEAAEECAACCBAAABAkAAAgSAAAQJAAAIEgAAECQAACAIAEAAEECAACCBAAABAkAAAgSAAAQJAAAIEgAAECQAACAIAEAAEECAACCBAAABAkAAAgSAAAQJAAAIEgAAECQAACAIAEAAEECAACCBAAABAkAAAgSAAAQJAAAIEgAAECQAACAIAEAAEECAACCBAAABAkAAAgSAAAQJAAAIEgAAECQAACAIAEAAEECAACCBAAABAkAAAgSAAAQJAAAIEgAAECQAACAIAEAAEECAACCBAAABAkAAAgSAAAQJAAAIEgAAECQAACAIAEAAEEfx5QFsKEbPi8AAAAASUVORK5CYII=\"></div><div style=\"vertical-align: middle; max-width: 514px; display: flex; justify-content: space-between;\"><div style=\"float: left;\"><div title=\"#721613ff\" style=\"display: inline-block; width: 1em; height: 1em; margin: 0; vertical-align: middle; border: 1px solid #555; background-color: #721613ff;\"></div> under</div><div style=\"margin: 0 auto; display: inline-block;\">bad <div title=\"#00000000\" style=\"display: inline-block; width: 1em; height: 1em; margin: 0; vertical-align: middle; border: 1px solid #555; background-color: #00000000;\"></div></div><div style=\"float: right;\">over <div title=\"#fbd85eff\" style=\"display: inline-block; width: 1em; height: 1em; margin: 0; vertical-align: middle; border: 1px solid #555; background-color: #fbd85eff;\"></div></div>"
      ],
      "text/plain": [
       "<matplotlib.colors.ListedColormap at 0x1215d50a0>"
      ]
     },
     "execution_count": 46,
     "metadata": {},
     "output_type": "execute_result"
    }
   ],
   "source": [
    "cmap = pitcher_of(\"SexOnTheBeach\", direction=-1, type=\"discrete\")\n",
    "cmap"
   ]
  },
  {
   "cell_type": "code",
   "execution_count": 47,
   "metadata": {},
   "outputs": [
    {
     "data": {
      "image/png": "[encoded data removed]",
      "text/plain": [
       "<Figure size 432x288 with 2 Axes>"
      ]
     },
     "metadata": {
      "needs_background": "light"
     },
     "output_type": "display_data"
    }
   ],
   "source": [
    "import numpy as np\n",
    "import matplotlib.pyplot as plt\n",
    "import matplotlib as mpl\n",
    "x = np.random.randn(1000000)-2\n",
    "x[500000:] += 4\n",
    "y = np.random.randn(1000000)\n",
    "plt.hist2d(x,y,bins=100,norm=mpl.colors.LogNorm(), cmap=cmap)\n",
    "plt.colorbar(pad=0.01)\n",
    "plt.subplots_adjust(0.05,0.05,1.05,0.95)\n",
    "plt.show()"
   ]
  },
  {
   "cell_type": "code",
   "execution_count": null,
   "metadata": {},
   "outputs": [],
   "source": []
  }
 ],
 "metadata": {
  "kernelspec": {
   "display_name": "Python 3.9.10 64-bit",
   "language": "python",
   "name": "python3"
  },
  "language_info": {
   "codemirror_mode": {
    "name": "ipython",
    "version": 3
   },
   "file_extension": ".py",
   "mimetype": "text/x-python",
   "name": "python",
   "nbconvert_exporter": "python",
   "pygments_lexer": "ipython3",
   "version": "3.9.10"
  },
  "orig_nbformat": 4,
  "vscode": {
   "interpreter": {
    "hash": "aee8b7b246df8f9039afb4144a1f6fd8d2ca17a180786b69acc140d282b71a49"
   }
  }
 },
 "nbformat": 4,
 "nbformat_minor": 2
}
